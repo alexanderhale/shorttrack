{
 "cells": [
  {
   "cell_type": "markdown",
   "metadata": {},
   "source": [
    "# Position Time-Series Classification\n",
    "Train a model with a dataset of athletes' positions as time-series data. Identify the most predictive features after the model is trained - the most obvious one will be a high position late in the race, but maybe there will be some other interesting high-influence features.\n",
    "\n",
    "### Simplification\n",
    "* restrict dataset to 1000m female races from the 2018-2019 season with lap times available\n",
    "* don't engineer any additional features - just use the positions at the end of each lap\n",
    "\n",
    "### Future Improvements\n",
    "* expand dataset\n",
    "* create some additional useful features"
   ]
  },
  {
   "cell_type": "markdown",
   "metadata": {},
   "source": [
    "## Imports & Configuration"
   ]
  },
  {
   "cell_type": "code",
   "execution_count": 1,
   "metadata": {},
   "outputs": [],
   "source": [
    "import numpy as np\n",
    "import pandas as pd\n",
    "\n",
    "import matplotlib.pyplot as plt\n",
    "\n",
    "from sklearn.metrics import accuracy_score\n",
    "from sklearn.model_selection import train_test_split\n",
    "from sklearn.pipeline import Pipeline\n",
    "from sklearn.tree import DecisionTreeClassifier\n",
    "from sklearn.ensemble import RandomForestClassifier\n",
    "\n",
    "from sktime.classification.compose import TimeSeriesForestClassifier\n",
    "# from sktime.transformers.panel.tsfresh import TSFreshFeatureExtractor\n",
    "from sktime.transformers.series_as_features.summarize import RandomIntervalFeatureExtractor\n",
    "from sktime.utils.time_series import time_series_slope\n",
    "from sktime.utils.data_container import from_2d_array_to_nested\n",
    "\n",
    "random_seed = 0"
   ]
  },
  {
   "cell_type": "markdown",
   "metadata": {},
   "source": [
    "## Select a Subset of Data"
   ]
  },
  {
   "cell_type": "code",
   "execution_count": 2,
   "metadata": {},
   "outputs": [
    {
     "name": "stderr",
     "output_type": "stream",
     "text": [
      "C:\\Users\\ahale\\Anaconda3\\envs\\shorttrack\\lib\\site-packages\\IPython\\core\\interactiveshell.py:3071: DtypeWarning: Columns (15,19,20,22,23,25,26,28,29,31,34,37,40,43,46,47,49,50,52,53,55,56,58,59,62,65,68,71,74,77,80,83,86,89,92,95,98,101,104,107,109,110,113,116,119,122,125,128,131,134,137,140,143,146,149,151,152) have mixed types.Specify dtype option on import or set low_memory=False.\n",
      "  has_raised = await self.run_ast_nodes(code_ast.body, cell_name,\n"
     ]
    }
   ],
   "source": [
    "full_rounds = pd.read_csv('data/scraped/cleaned/rounds_splits.csv')"
   ]
  },
  {
   "cell_type": "code",
   "execution_count": 3,
   "metadata": {},
   "outputs": [
    {
     "data": {
      "text/plain": [
       "(1084, 153)"
      ]
     },
     "execution_count": 3,
     "metadata": {},
     "output_type": "execute_result"
    }
   ],
   "source": [
    "rounds_df = full_rounds[(full_rounds['season'] == '2018-2019') & \n",
    "                        (full_rounds['event'] == '1000m') & \n",
    "                        (full_rounds['gender'] == 'w') & \n",
    "                        (full_rounds['laps_of_split_data'] > 1)]\n",
    "rounds_df.shape"
   ]
  },
  {
   "cell_type": "markdown",
   "metadata": {},
   "source": [
    "## Feature Engineering\n",
    "- [tsfresh](https://tsfresh.readthedocs.io/en/latest/)\n",
    "\n",
    "Keeping it simple for now:\n",
    "\n",
    "#### Features (x)\n",
    "- Position of athlete at the start line and at the end of each lap of the race (including the final lap).\n",
    "\n",
    "#### Feature to Predict (y)\n",
    "- Athlete's finishing position."
   ]
  },
  {
   "cell_type": "code",
   "execution_count": 4,
   "metadata": {
    "scrolled": false
   },
   "outputs": [],
   "source": [
    "split_column_titles = [f'lap_{i}_position' for i in range(1, 10)]\n",
    "X = rounds_df[['Start Pos.'] + split_column_titles]\n",
    "y = rounds_df['Place']"
   ]
  },
  {
   "cell_type": "code",
   "execution_count": 5,
   "metadata": {},
   "outputs": [],
   "source": [
    "X = X.fillna(value=-1)"
   ]
  },
  {
   "cell_type": "code",
   "execution_count": 6,
   "metadata": {},
   "outputs": [],
   "source": [
    "X_train, X_test, y_train, y_test = train_test_split(X, y, test_size=0.2, random_state=random_seed)"
   ]
  },
  {
   "cell_type": "markdown",
   "metadata": {},
   "source": [
    "## Modelling\n",
    "- [Univariate time-series classification with the sktime library](https://github.com/alan-turing-institute/sktime/blob/master/examples/02_classification_univariate.ipynb)\n",
    "- [Survey of time-series classifiers](https://towardsdatascience.com/a-brief-introduction-to-time-series-classification-algorithms-7b4284d31b97)"
   ]
  },
  {
   "cell_type": "markdown",
   "metadata": {},
   "source": [
    "### Random Forest Classifier\n",
    "Not specifically intended for time-series data, so although the accuracy is decent, that is because the model learns that a good position late in the race is likely is a strong indicator of winning the race. That's something we already knew."
   ]
  },
  {
   "cell_type": "code",
   "execution_count": 7,
   "metadata": {},
   "outputs": [
    {
     "data": {
      "text/plain": [
       "RandomForestClassifier()"
      ]
     },
     "execution_count": 7,
     "metadata": {},
     "output_type": "execute_result"
    }
   ],
   "source": [
    "rf_clf = RandomForestClassifier(n_estimators=100)\n",
    "rf_clf.fit(X_train, y_train)"
   ]
  },
  {
   "cell_type": "code",
   "execution_count": 8,
   "metadata": {},
   "outputs": [
    {
     "name": "stdout",
     "output_type": "stream",
     "text": [
      "Accuracy: 0.8202764976958525\n"
     ]
    }
   ],
   "source": [
    "print(f'Accuracy: {rf_clf.score(X_test, y_test)}')"
   ]
  },
  {
   "cell_type": "code",
   "execution_count": 9,
   "metadata": {},
   "outputs": [
    {
     "data": {
      "text/plain": [
       "[Text(0.5, 0, 'Lap'), Text(0, 0.5, 'Feature Importance')]"
      ]
     },
     "execution_count": 9,
     "metadata": {},
     "output_type": "execute_result"
    },
    {
     "data": {
      "image/png": "[encoded data removed]",
      "text/plain": [
       "<Figure size 1152x288 with 1 Axes>"
      ]
     },
     "metadata": {
      "needs_background": "light"
     },
     "output_type": "display_data"
    }
   ],
   "source": [
    "fig, ax = plt.subplots(1, figsize=plt.figaspect(0.25))\n",
    "plt.plot(rf_clf.feature_importances_, axes=ax)\n",
    "ax.set(xlabel=\"Lap\", ylabel=\"Feature Importance\")"
   ]
  },
  {
   "cell_type": "markdown",
   "metadata": {},
   "source": [
    "### Time Series Forest Classifier"
   ]
  },
  {
   "cell_type": "code",
   "execution_count": 10,
   "metadata": {},
   "outputs": [],
   "source": [
    "X_2d = from_2d_array_to_nested(X)\n",
    "X_train_2d, X_test_2d, y_train_2d, y_test_2d = train_test_split(X_2d, y, test_size=0.2, random_state=random_seed)"
   ]
  },
  {
   "cell_type": "code",
   "execution_count": 11,
   "metadata": {},
   "outputs": [],
   "source": [
    "steps = [\n",
    "    ('extract', RandomIntervalFeatureExtractor(n_intervals='sqrt', features=[np.mean, np.std, time_series_slope])),\n",
    "    ('clf', DecisionTreeClassifier())\n",
    "]\n",
    "time_series_tree = Pipeline(steps)"
   ]
  },
  {
   "cell_type": "code",
   "execution_count": 12,
   "metadata": {},
   "outputs": [
    {
     "data": {
      "text/plain": [
       "TimeSeriesForestClassifier(bootstrap=True,\n",
       "                           estimator=Pipeline(steps=[('extract',\n",
       "                                                      RandomIntervalFeatureExtractor(features=[<function mean at 0x000001943CA65B80>,\n",
       "                                                                                               <function std at 0x000001943CA65D30>,\n",
       "                                                                                               <function time_series_slope at 0x000001944FED6F70>])),\n",
       "                                                     ('clf',\n",
       "                                                      DecisionTreeClassifier())]),\n",
       "                           oob_score=True, random_state=0)"
      ]
     },
     "execution_count": 12,
     "metadata": {},
     "output_type": "execute_result"
    }
   ],
   "source": [
    "tsf_clf = TimeSeriesForestClassifier(estimator=time_series_tree,\n",
    "                                     n_estimators=100,\n",
    "                                     criterion=\"entropy\",\n",
    "                                     bootstrap=True,\n",
    "                                     oob_score=True,\n",
    "                                     random_state=random_seed)\n",
    "tsf_clf.fit(X_train_2d, y_train_2d)"
   ]
  },
  {
   "cell_type": "code",
   "execution_count": 14,
   "metadata": {},
   "outputs": [
    {
     "name": "stdout",
     "output_type": "stream",
     "text": [
      "Accuracy: 0.8294930875576036\n"
     ]
    }
   ],
   "source": [
    "print(f'Accuracy: {tsf_clf.score(X_test_2d, y_test_2d)}')"
   ]
  },
  {
   "cell_type": "code",
   "execution_count": 15,
   "metadata": {},
   "outputs": [
    {
     "data": {
      "text/plain": [
       "[Text(0.5, 0, 'Lap'), Text(0, 0.5, 'Feature Importance')]"
      ]
     },
     "execution_count": 15,
     "metadata": {},
     "output_type": "execute_result"
    },
    {
     "data": {
      "image/png": "[encoded data removed]",
      "text/plain": [
       "<Figure size 1152x288 with 1 Axes>"
      ]
     },
     "metadata": {
      "needs_background": "light"
     },
     "output_type": "display_data"
    }
   ],
   "source": [
    "fig, ax = plt.subplots(1, figsize=plt.figaspect(0.25))\n",
    "plt.plot(tsf_clf.feature_importances_, axes=ax)\n",
    "ax.set(xlabel=\"Lap\", ylabel=\"Feature Importance\")\n",
    "\n",
    "# blue = mean, orange = standard deviation, green = time series slope"
   ]
  }
 ],
 "metadata": {
  "kernelspec": {
   "display_name": "shorttrack",
   "language": "python",
   "name": "shorttrack"
  },
  "language_info": {
   "codemirror_mode": {
    "name": "ipython",
    "version": 3
   },
   "file_extension": ".py",
   "mimetype": "text/x-python",
   "name": "python",
   "nbconvert_exporter": "python",
   "pygments_lexer": "ipython3",
   "version": "3.8.5"
  }
 },
 "nbformat": 4,
 "nbformat_minor": 4
}
