{
 "cells": [
  {
   "cell_type": "markdown",
   "metadata": {},
   "source": [
    "# Short Track Dashboard - Light Dataset\n",
    "The full Short Track dataset is quite large, leading to resource-intensive deployments. This notebook pares down the dataset to just a few athletes, so the dashboard can be demonstrated with fewer resources."
   ]
  },
  {
   "cell_type": "code",
   "execution_count": null,
   "metadata": {},
   "outputs": [],
   "source": [
    "import pandas as pd"
   ]
  },
  {
   "cell_type": "code",
   "execution_count": null,
   "metadata": {},
   "outputs": [],
   "source": [
    "laptimes = pd.read_csv('../full/individual_athlete_lap_data.csv')\n",
    "rounds_splits = pd.read_csv('../full/rounds_splits.csv')\n",
    "\n",
    "athletes = ['FrancoisHAMELIN',\n",
    "            'CharlesHAMELIN',\n",
    "            'KNEGTSjinkie',\n",
    "            'KWAKYoon-Gy',\n",
    "            'SHAOANGLiu',\n",
    "            'SCHULTINGSuzanne',\n",
    "            'AriannaFONTANA',\n",
    "            'Marie-EveDROLET',\n",
    "            'CHRISTIEElise']"
   ]
  },
  {
   "cell_type": "code",
   "execution_count": null,
   "metadata": {},
   "outputs": [],
   "source": [
    "light_laptimes = laptimes[laptimes['Name'].isin(athletes)]\n",
    "light_rounds_splits = rounds_splits[rounds_splits['Name'].isin(athletes)]"
   ]
  },
  {
   "cell_type": "code",
   "execution_count": null,
   "metadata": {},
   "outputs": [],
   "source": [
    "light_laptimes.info()"
   ]
  },
  {
   "cell_type": "code",
   "execution_count": null,
   "metadata": {},
   "outputs": [],
   "source": [
    "light_rounds_splits.info()"
   ]
  },
  {
   "cell_type": "code",
   "execution_count": null,
   "metadata": {},
   "outputs": [],
   "source": [
    "light_laptimes.to_csv('individual_athlete_lap_data.csv', index=False)\n",
    "light_rounds_splits.to_csv('rounds_splits.csv', index=False)"
   ]
  }
 ],
 "metadata": {
  "kernelspec": {
   "display_name": "shorttrack",
   "language": "python",
   "name": "shorttrack"
  },
  "language_info": {
   "codemirror_mode": {
    "name": "ipython",
    "version": 3
   },
   "file_extension": ".py",
   "mimetype": "text/x-python",
   "name": "python",
   "nbconvert_exporter": "python",
   "pygments_lexer": "ipython3",
   "version": "3.8.5"
  }
 },
 "nbformat": 4,
 "nbformat_minor": 4
}
