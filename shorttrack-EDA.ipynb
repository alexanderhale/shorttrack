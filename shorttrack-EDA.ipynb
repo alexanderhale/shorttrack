{
 "cells": [
  {
   "cell_type": "code",
   "execution_count": 1,
   "metadata": {},
   "outputs": [],
   "source": [
    "import pandas as pd\n",
    "import numpy as np\n",
    "import os\n",
    "import re\n",
    "from pandas_profiling import ProfileReport\n",
    "from tqdm.auto import tqdm\n",
    "\n",
    "tqdm.pandas()\n",
    "workers = os.cpu_count()"
   ]
  },
  {
   "cell_type": "markdown",
   "metadata": {},
   "source": [
    "# Data Cleaning"
   ]
  },
  {
   "cell_type": "code",
   "execution_count": 2,
   "metadata": {},
   "outputs": [
    {
     "name": "stderr",
     "output_type": "stream",
     "text": [
      "C:\\Users\\ahale\\Anaconda3\\envs\\shorttrack\\lib\\site-packages\\IPython\\core\\interactiveshell.py:3071: DtypeWarning: Columns (16) have mixed types.Specify dtype option on import or set low_memory=False.\n",
      "  has_raised = await self.run_ast_nodes(code_ast.body, cell_name,\n",
      "C:\\Users\\ahale\\Anaconda3\\envs\\shorttrack\\lib\\site-packages\\IPython\\core\\interactiveshell.py:3071: DtypeWarning: Columns (1,4,7,10,19,22,29,31,32,35,38,41,44,47,50,53,56,59,62) have mixed types.Specify dtype option on import or set low_memory=False.\n",
      "  has_raised = await self.run_ast_nodes(code_ast.body, cell_name,\n"
     ]
    }
   ],
   "source": [
    "all_rounds = pd.read_csv('data/scraped/parsed/all_rounds_merged.csv')\n",
    "all_splits = pd.read_csv('data/scraped/parsed/all_splits_merged.csv')"
   ]
  },
  {
   "cell_type": "code",
   "execution_count": 3,
   "metadata": {},
   "outputs": [],
   "source": [
    "def parse_time_string(s):\n",
    "    if '.' in str(s):\n",
    "        m = re.match(r'(?P<days>[-\\d]+) day[s]*, (?P<hours>\\d+):(?P<minutes>\\d+):(?P<seconds>\\d[\\.\\d+]*)', str(s))\n",
    "        if m is not None:\n",
    "            return pd.Timedelta(**{key: float(val) for key, val in m.groupdict().iteritems()})\n",
    "    return s"
   ]
  },
  {
   "cell_type": "code",
   "execution_count": 4,
   "metadata": {},
   "outputs": [],
   "source": [
    "def indicate_multiple_of_same_distance(event_name):\n",
    "    instance_of_event_in_competition = np.nan\n",
    "    if '(1)' in event_name:\n",
    "        return 1\n",
    "    elif '(2)' in event_name:\n",
    "        return 2\n",
    "    return -1"
   ]
  },
  {
   "cell_type": "code",
   "execution_count": 5,
   "metadata": {},
   "outputs": [],
   "source": [
    "all_rounds[\"instance_of_event_in_competition\"] = all_rounds['event'].apply(lambda event: indicate_multiple_of_same_distance(event))\n",
    "all_splits[\"instance_of_event_in_competition\"] = all_splits['event'].apply(lambda event: indicate_multiple_of_same_distance(event))"
   ]
  },
  {
   "cell_type": "code",
   "execution_count": 6,
   "metadata": {},
   "outputs": [],
   "source": [
    "event_name_cleanup = {\"500M\": \"500m\",\n",
    "                      \"500m(1)\": \"500m\",\n",
    "                      \"500m(2)\": \"500m\",\n",
    "                      \"1000M\": \"1000m\",\n",
    "                      \"1000m(1)\": \"1000m\",\n",
    "                      \"1000m(2)\": \"1000m\",\n",
    "                      \"1500M\": \"1500m\",\n",
    "                      \"1500m(1)\": \"1500m\",\n",
    "                      \"1500m(2)\": \"1500m\",\n",
    "                      \"1,000m\": \"1000m\",\n",
    "                      \"3000M\": \"3000m\",\n",
    "                      \"1,500m\": \"1500m\",\n",
    "                      \"3000MRelay\": \"3000mRelay\",\n",
    "                      \"5000M\": \"5000m\",\n",
    "                      \"5000MRelay\": \"5000mRelay\",\n",
    "                      \"3,000mRelay\": \"3000mRelay\",\n",
    "                      \"5,000mRelay\": \"5000mRelay\",\n",
    "                      \"2000MRelay\": \"2000mRelay\"\n",
    "                     }\n",
    "all_rounds[\"event\"].replace(to_replace=event_name_cleanup, inplace=True)\n",
    "all_splits[\"event\"].replace(to_replace=event_name_cleanup, inplace=True)"
   ]
  },
  {
   "cell_type": "code",
   "execution_count": 7,
   "metadata": {},
   "outputs": [],
   "source": [
    "all_rounds.drop(\"Relay Team\", axis=1, inplace=True)"
   ]
  },
  {
   "cell_type": "code",
   "execution_count": 8,
   "metadata": {},
   "outputs": [],
   "source": [
    "all_rounds[\"Results\"] = all_rounds[\"Results\"].apply(lambda result: parse_time_string(result))"
   ]
  },
  {
   "cell_type": "code",
   "execution_count": 9,
   "metadata": {},
   "outputs": [],
   "source": [
    "for col in all_splits.columns:\n",
    "    if 'TIME' in col:\n",
    "        all_splits[col] = all_splits[col].apply(lambda t: parse_time_string(t))"
   ]
  },
  {
   "cell_type": "markdown",
   "metadata": {},
   "source": [
    "# Merge Rounds and Splits into one DataFrame"
   ]
  },
  {
   "cell_type": "code",
   "execution_count": 10,
   "metadata": {
    "scrolled": false
   },
   "outputs": [
    {
     "data": {
      "application/vnd.jupyter.widget-view+json": {
       "model_id": "a4a5edea909d4794b572e053cca9e2c2",
       "version_major": 2,
       "version_minor": 0
      },
      "text/plain": [
       "HBox(children=(HTML(value=''), FloatProgress(value=0.0, max=30526.0), HTML(value='')))"
      ]
     },
     "metadata": {},
     "output_type": "display_data"
    },
    {
     "name": "stdout",
     "output_type": "stream",
     "text": [
      "\n"
     ]
    }
   ],
   "source": [
    "individual_races = all_rounds.groupby(['season', 'competition', 'event', 'gender', 'round', 'race', 'instance_of_event_in_competition'])\n",
    "rounds_splits_df = all_rounds.copy()\n",
    "\n",
    "for race_details, athlete_race_data in tqdm(individual_races):\n",
    "    athlete_indices = athlete_race_data.index\n",
    "    \n",
    "    laps = all_splits[(all_splits['season'] == race_details[0]) & \n",
    "                      (all_splits['competition'] == race_details[1]) & \n",
    "                      (all_splits['event'] == race_details[2]) & \n",
    "                      (all_splits['gender'] == race_details[3]) & \n",
    "                      (all_splits['round'] == race_details[4]) & \n",
    "                      (all_splits['race'] == race_details[5]) &\n",
    "                      (all_splits['instance_of_event_in_competition'] == race_details[6])]\n",
    "    \n",
    "    rounds_splits_df.loc[athlete_indices, 'laps_of_split_data'] = laps.shape[0]\n",
    "\n",
    "    if laps.shape[0] > 1:\n",
    "        for athlete_index in athlete_indices:\n",
    "            athlete_start_position = f'START_POS_{rounds_splits_df.loc[athlete_index, \"Start Pos.\"]}'\n",
    "\n",
    "            if f'{athlete_start_position} POSITION' in laps.columns:\n",
    "                for lap_number, (lap_index, lap_data) in enumerate(laps.iterrows()):\n",
    "                    rounds_splits_df.loc[athlete_index, f'lap_{lap_number + 1}_position'] = lap_data[f'{athlete_start_position} POSITION']\n",
    "                    rounds_splits_df.loc[athlete_index, f'lap_{lap_number + 1}_laptime'] = lap_data[f'{athlete_start_position} LAP TIME']\n",
    "                    rounds_splits_df.loc[athlete_index, f'lap_{lap_number + 1}_elapsedtime'] = lap_data[f'{athlete_start_position} ELAPSED TIME']"
   ]
  },
  {
   "cell_type": "markdown",
   "metadata": {},
   "source": [
    "# Save"
   ]
  },
  {
   "cell_type": "code",
   "execution_count": 11,
   "metadata": {},
   "outputs": [],
   "source": [
    "all_rounds.to_csv('data/scraped/cleaned/all_rounds.csv', index=False)\n",
    "all_splits.to_csv('data/scraped/cleaned/all_splits.csv', index=False)\n",
    "rounds_splits_df.to_csv('data/scraped/cleaned/rounds_splits.csv', index=False)"
   ]
  },
  {
   "cell_type": "markdown",
   "metadata": {},
   "source": [
    "# Profile"
   ]
  },
  {
   "cell_type": "code",
   "execution_count": null,
   "metadata": {},
   "outputs": [],
   "source": [
    "ProfileReport(rounds_splits_df, title=\"Races with Splits - Profile Report\")"
   ]
  }
 ],
 "metadata": {
  "kernelspec": {
   "display_name": "shorttrack",
   "language": "python",
   "name": "shorttrack"
  },
  "language_info": {
   "codemirror_mode": {
    "name": "ipython",
    "version": 3
   },
   "file_extension": ".py",
   "mimetype": "text/x-python",
   "name": "python",
   "nbconvert_exporter": "python",
   "pygments_lexer": "ipython3",
   "version": "3.8.5"
  }
 },
 "nbformat": 4,
 "nbformat_minor": 4
}
