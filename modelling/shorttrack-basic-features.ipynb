{
 "cells": [
  {
   "cell_type": "markdown",
   "metadata": {},
   "source": [
    "# Short Track Modelling - Basic Features\n",
    "Feed basic features into a model, with the finishing position as the label. Extract the feature importances to show the user how important it is for the athlete to attain each of the basic features. Also extract feature correlation to see if there are any features which only increase chances of victory when achieved together.\n",
    "\n",
    "Split data by event (500m, 1000m, 1500m) and gender.\n",
    "\n",
    "Basic features to be included:\n",
    "- maximum speed attained in race\n",
    "- start position + position in pack at the end of each lap\n",
    "- fastest laptime achieved"
   ]
  },
  {
   "cell_type": "code",
   "execution_count": null,
   "metadata": {},
   "outputs": [],
   "source": [
    "# TODO"
   ]
  }
 ],
 "metadata": {
  "kernelspec": {
   "display_name": "shorttrack",
   "language": "python",
   "name": "shorttrack"
  },
  "language_info": {
   "codemirror_mode": {
    "name": "ipython",
    "version": 3
   },
   "file_extension": ".py",
   "mimetype": "text/x-python",
   "name": "python",
   "nbconvert_exporter": "python",
   "pygments_lexer": "ipython3",
   "version": "3.8.5"
  }
 },
 "nbformat": 4,
 "nbformat_minor": 4
}
