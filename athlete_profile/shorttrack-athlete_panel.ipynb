{
 "cells": [
  {
   "cell_type": "markdown",
   "metadata": {},
   "source": [
    "# Athlete Dashboard - Preparation\n",
    "Development sandbox for the athlete dashboard user interface."
   ]
  },
  {
   "cell_type": "code",
   "execution_count": 45,
   "metadata": {},
   "outputs": [],
   "source": [
    "import pandas as pd\n",
    "import numpy as np\n",
    "\n",
    "import matplotlib.pyplot as plt\n",
    "%matplotlib inline\n",
    "\n",
    "import seaborn as sns\n",
    "import panel as pn\n",
    "import panel.widgets as pnw\n",
    "import panel.pane as pnp\n",
    "import param\n",
    "import hvplot as hv"
   ]
  },
  {
   "cell_type": "code",
   "execution_count": 2,
   "metadata": {},
   "outputs": [
    {
     "name": "stderr",
     "output_type": "stream",
     "text": [
      "C:\\Users\\ahale\\Anaconda3\\envs\\shorttrack\\lib\\site-packages\\IPython\\core\\interactiveshell.py:3071: DtypeWarning: Columns (15,19,20,22,23,25,26,28,29,31,34,37,40,43,46,47,49,50,52,53,55,56,58,59,62,65,68,71,74,77,80,83,86,89,92,95,98,101,104,107,109,110,113,116,119,122,125,128,131,134,137,140,143,146,149,151,152) have mixed types.Specify dtype option on import or set low_memory=False.\n",
      "  has_raised = await self.run_ast_nodes(code_ast.body, cell_name,\n"
     ]
    }
   ],
   "source": [
    "full_rounds = pd.read_csv('../data/scraped/cleaned/rounds_splits.csv')\n",
    "\n",
    "# replace 0 positions and laptimes with NaN\n",
    "pos_cols = [f'lap_{x}_position' for x in range(1, 46)]\n",
    "laptime_cols = [f'lap_{x}_laptime' for x in range(1, 46)]\n",
    "full_rounds[pos_cols] = full_rounds[pos_cols].replace(0.0, np.nan)\n",
    "full_rounds[laptime_cols] = full_rounds[laptime_cols].replace(0.0, np.nan)"
   ]
  },
  {
   "cell_type": "code",
   "execution_count": 3,
   "metadata": {},
   "outputs": [],
   "source": [
    "individual_events = full_rounds[full_rounds['event'].isin({'500m', '1000m', '1500m'})]"
   ]
  },
  {
   "cell_type": "code",
   "execution_count": 66,
   "metadata": {},
   "outputs": [
    {
     "name": "stdout",
     "output_type": "stream",
     "text": [
      "Launching server at http://localhost:63632\n"
     ]
    },
    {
     "data": {
      "text/plain": [
       "<bokeh.server.server.Server at 0x24bbace0be0>"
      ]
     },
     "execution_count": 66,
     "metadata": {},
     "output_type": "execute_result"
    },
    {
     "name": "stderr",
     "output_type": "stream",
     "text": [
      "WARNING:bokeh.core.validation.check:W-1005 (FIXED_SIZING_MODE): 'fixed' sizing mode requires width and height to be set: HTML(id='1740', ...)\n"
     ]
    }
   ],
   "source": [
    "class AthleteProfileDashboard(param.Parameterized):\n",
    "\n",
    "    # widgets containing selectors for the user to refine which data they are seeing\n",
    "    athlete_name = param.Selector(objects=list(individual_events['Name'].unique()))\n",
    "    event = param.Selector(default='All', objects=list(individual_events['event'].unique()) + ['All'])\n",
    "    start_position = param.Selector(default=1, objects=list(individual_events['Start Pos.'].unique()))\n",
    "    \n",
    "    @param.depends('athlete_name', 'event')\n",
    "    def get_athlete_races(self, event=None):\n",
    "        athlete_races = individual_events[individual_events['Name'] == self.athlete_name]\n",
    "        if not event:\n",
    "            event = self.event\n",
    "        if event == 'All':\n",
    "            return athlete_races\n",
    "        else:\n",
    "            return athlete_races[athlete_races['event'] == event]\n",
    "\n",
    "    @param.depends('athlete_name')\n",
    "    def first_lap_positions(self):\n",
    "        plot = plt.figure()\n",
    "        plot.suptitle('Most Common Position to Start the Race')\n",
    "        plot.add_subplot(111).hist(self.get_athlete_races()['lap_1_position'])\n",
    "        plt.xlabel('Position')\n",
    "        plt.ylabel('Frequency')\n",
    "        plt.close(plot)\n",
    "        return plot\n",
    "    \n",
    "    @param.depends('athlete_name')\n",
    "    def half_lap_500m(self):\n",
    "        mean_start_time = round(self.get_athlete_races(event='500m')['lap_1_laptime'].astype('float').mean(), 3)\n",
    "        return pn.indicators.Number(name='Mean 500m Half-Lap Start Time', value=mean_start_time, format='{value}s')\n",
    "    \n",
    "    @param.depends('athlete_name')\n",
    "    def half_lap_500m_hist(self):\n",
    "        start_times = self.get_athlete_races(event='500m')['lap_1_laptime'].astype('float')\n",
    "        plot = plt.figure()\n",
    "        plot.suptitle('500m Half-Lap Start Time')\n",
    "        plot.add_subplot(111).hist(start_times[start_times < 9])\n",
    "        plt.xlabel('Half-Lap Start Time')\n",
    "        plt.ylabel('Frequency')\n",
    "        plt.close(plot)\n",
    "        return plot\n",
    "    \n",
    "    @param.depends('athlete_name', 'start_position')\n",
    "    def start_performance_500m(self):\n",
    "        all_500m_races = self.get_athlete_races(event='500m')\n",
    "        start_performances = all_500m_races[all_500m_races['Start Pos.'] == int(self.start_position)]['lap_1_position'].astype('float')\n",
    "        \n",
    "        plot = plt.figure()\n",
    "        plot.suptitle(f'500m Start Performance from Lane {self.start_position}')\n",
    "        plot.add_subplot(111).hist(start_performances)\n",
    "        plt.xlabel('Position after Start')\n",
    "        plt.ylabel('Frequency')\n",
    "        plt.close(plot)\n",
    "        return plot\n",
    "\n",
    "# create an instance of the class\n",
    "apd = AthleteProfileDashboard(name='Athlete Profile')\n",
    "\n",
    "# customize some widgets\n",
    "start_position = pn.Param(apd.param, widgets={'start_position': {'widget_type': pnw.RadioButtonGroup, 'name': 'Start Position'}})\n",
    "\n",
    "# define the dashboard elements using a subset of the rd class plots\n",
    "dashboard = pn.Column(start_position, apd.first_lap_positions, apd.half_lap_500m, apd.half_lap_500m_hist, apd.start_performance_500m)\n",
    "\n",
    "# display the dashboard\n",
    "dashboard.show()"
   ]
  }
 ],
 "metadata": {
  "kernelspec": {
   "display_name": "shorttrack",
   "language": "python",
   "name": "shorttrack"
  },
  "language_info": {
   "codemirror_mode": {
    "name": "ipython",
    "version": 3
   },
   "file_extension": ".py",
   "mimetype": "text/x-python",
   "name": "python",
   "nbconvert_exporter": "python",
   "pygments_lexer": "ipython3",
   "version": "3.8.5"
  }
 },
 "nbformat": 4,
 "nbformat_minor": 4
}
