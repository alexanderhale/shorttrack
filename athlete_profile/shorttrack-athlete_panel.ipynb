{
 "cells": [
  {
   "cell_type": "markdown",
   "metadata": {},
   "source": [
    "# Athlete Dashboard - Preparation\n",
    "Development sandbox for the athlete dashboard user interface."
   ]
  },
  {
   "cell_type": "code",
   "execution_count": 5,
   "metadata": {},
   "outputs": [],
   "source": [
    "import pandas as pd\n",
    "import numpy as np\n",
    "\n",
    "import matplotlib.pyplot as plt\n",
    "%matplotlib inline\n",
    "\n",
    "import seaborn as sns\n",
    "import panel as pn\n",
    "import param\n",
    "import hvplot as hv"
   ]
  },
  {
   "cell_type": "code",
   "execution_count": 2,
   "metadata": {},
   "outputs": [
    {
     "name": "stderr",
     "output_type": "stream",
     "text": [
      "C:\\Users\\ahale\\Anaconda3\\envs\\shorttrack\\lib\\site-packages\\IPython\\core\\interactiveshell.py:3071: DtypeWarning: Columns (15,19,20,22,23,25,26,28,29,31,34,37,40,43,46,47,49,50,52,53,55,56,58,59,62,65,68,71,74,77,80,83,86,89,92,95,98,101,104,107,109,110,113,116,119,122,125,128,131,134,137,140,143,146,149,151,152) have mixed types.Specify dtype option on import or set low_memory=False.\n",
      "  has_raised = await self.run_ast_nodes(code_ast.body, cell_name,\n"
     ]
    }
   ],
   "source": [
    "full_rounds = pd.read_csv('../data/scraped/cleaned/rounds_splits.csv')\n",
    "\n",
    "# replace 0 positions and laptimes with NaN\n",
    "pos_cols = [f'lap_{x}_position' for x in range(1, 46)]\n",
    "laptime_cols = [f'lap_{x}_laptime' for x in range(1, 46)]\n",
    "full_rounds[pos_cols] = full_rounds[pos_cols].replace(0.0, np.nan)\n",
    "full_rounds[laptime_cols] = full_rounds[laptime_cols].replace(0.0, np.nan)"
   ]
  },
  {
   "cell_type": "code",
   "execution_count": 3,
   "metadata": {},
   "outputs": [],
   "source": [
    "individual_events = full_rounds[full_rounds['event'].isin({'500m', '1000m', '1500m'})]"
   ]
  },
  {
   "cell_type": "code",
   "execution_count": 14,
   "metadata": {},
   "outputs": [
    {
     "name": "stdout",
     "output_type": "stream",
     "text": [
      "Launching server at http://localhost:62315\n"
     ]
    },
    {
     "data": {
      "text/plain": [
       "<bokeh.server.server.Server at 0x24bb6cbcbb0>"
      ]
     },
     "execution_count": 14,
     "metadata": {},
     "output_type": "execute_result"
    }
   ],
   "source": [
    "class AthleteProfileDashboard(param.Parameterized):\n",
    "\n",
    "    # widgets containing selectors for the user to refine which data they are seeing\n",
    "    athlete_name = param.ObjectSelector(default=individual_events.iloc[0]['Name'], objects=list(individual_events['Name'].unique()))\n",
    "    event = param.ObjectSelector(default='All', objects=list(individual_events['event'].unique()) + ['All'])\n",
    "\n",
    "    def get_athlete_races(self):\n",
    "        athlete_races = individual_events[individual_events['Name'] == self.athlete_name]\n",
    "        if self.event == 'All':\n",
    "            return athlete_races\n",
    "        else:\n",
    "            return athlete_races[athlete_races['event'] == self.event]\n",
    "\n",
    "    def first_lap_positions(self):\n",
    "        plot = plt.figure()\n",
    "        plot.suptitle('Most Common Position to Start the Race')\n",
    "        plot.add_subplot(111).hist(self.get_athlete_races()['lap_1_position'])\n",
    "        plt.xlabel('Position')\n",
    "        plt.ylabel('Frequency')\n",
    "        plt.close(plot)\n",
    "        return plot\n",
    "\n",
    "# create an instance of the class\n",
    "apd = AthleteProfileDashboard(name='Athlete Profile')\n",
    "\n",
    "# define the dashboard elements using a subset of the rd class plots\n",
    "dashboard = pn.Column(apd.param, apd.first_lap_positions)\n",
    "\n",
    "# display the dashboard\n",
    "dashboard.show()"
   ]
  }
 ],
 "metadata": {
  "kernelspec": {
   "display_name": "shorttrack",
   "language": "python",
   "name": "shorttrack"
  },
  "language_info": {
   "codemirror_mode": {
    "name": "ipython",
    "version": 3
   },
   "file_extension": ".py",
   "mimetype": "text/x-python",
   "name": "python",
   "nbconvert_exporter": "python",
   "pygments_lexer": "ipython3",
   "version": "3.8.5"
  }
 },
 "nbformat": 4,
 "nbformat_minor": 4
}
